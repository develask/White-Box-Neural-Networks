{
 "cells": [
  {
   "cell_type": "markdown",
   "metadata": {},
   "source": [
    "### This script can be used to test the models we have trained personally."
   ]
  },
  {
   "cell_type": "code",
   "execution_count": 1,
   "metadata": {},
   "outputs": [],
   "source": [
    "import pyaudio\n",
    "import time\n",
    "import wave\n",
    "from scipy.io import wavfile\n",
    "import librosa\n",
    "import numpy as np\n",
    "from matplotlib import pyplot as plt\n",
    "import wbnn\n",
    "import sys"
   ]
  },
  {
   "cell_type": "markdown",
   "metadata": {},
   "source": [
    "This function records an audio of one second of duration. "
   ]
  },
  {
   "cell_type": "code",
   "execution_count": 2,
   "metadata": {},
   "outputs": [],
   "source": [
    "def record_1_sec():\n",
    "    p = pyaudio.PyAudio()\n",
    "    stream = p.open(format = pyaudio.paInt16,\n",
    "                    channels = 1,\n",
    "                    rate = 16000,\n",
    "                    input = True,\n",
    "                    output= True,\n",
    "                    frames_per_buffer = 1024)\n",
    "    print(\"recording...\")\n",
    "    time.sleep(0.1)\n",
    "    frames = []\n",
    "    init = time.time()\n",
    "    for i in range(int(16000/1024)+4):\n",
    "        data = stream.read(1024)\n",
    "        frames.append(data)\n",
    "    print(\"recoded!\")\n",
    "    stream.stop_stream()\n",
    "    stream.close()\n",
    "    p.terminate()\n",
    "    \n",
    "    wavfile = wave.open(\"myrecording.wav\", 'wb')\n",
    "    wavfile.setnchannels(1)\n",
    "    wavfile.setsampwidth(p.get_sample_size(pyaudio.paInt16))\n",
    "    wavfile.setframerate(16000)\n",
    "    wavfile.writeframes(b''.join(frames))\n",
    "    wavfile.close()\n",
    "\n",
    "# Convert the audio to spectogram\n",
    "def spectogram(audio_file_name):\n",
    "    sample_rate, samples = wavfile.read(audio_file_name) # load the data\n",
    "    samples = (samples+65536)/2/65536 - 0.5\n",
    "    spectogram = librosa.feature.melspectrogram(y=samples, sr=int(sample_rate))\n",
    "    return np.log(spectogram+0.00001)\n",
    "\n",
    "def show_spectogram(inp):\n",
    "    plt.imshow(inp, origin=\"lower\", aspect=\"auto\", cmap=\"jet\", interpolation=\"none\")\n",
    "    plt.colorbar()\n",
    "    plt.xlabel(\"Time\")\n",
    "    plt.ylabel(\"Frequency\")\n",
    "    plt.xticks([])\n",
    "    plt.yticks([])\n",
    "    plt.show()"
   ]
  },
  {
   "cell_type": "markdown",
   "metadata": {},
   "source": [
    "Record yourself, convert the audio to spectogram and see what the net has predicted!"
   ]
  },
  {
   "cell_type": "code",
   "execution_count": 3,
   "metadata": {},
   "outputs": [
    {
     "name": "stdout",
     "output_type": "stream",
     "text": [
      "Speak in 3...\n",
      "Speak in 2...\n",
      "Speak in 1...\n",
      "recording...\n",
      "recoded!\n"
     ]
    },
    {
     "data": {
      "image/png": "[encoded data removed]",
      "text/plain": [
       "<matplotlib.figure.Figure at 0x1181af128>"
      ]
     },
     "metadata": {},
     "output_type": "display_data"
    },
    {
     "name": "stdout",
     "output_type": "stream",
     "text": [
      "Confidence levels:\n",
      "\t up 0.5347052260390673\n",
      "\t down 0.001598598373292034\n",
      "\t right 0.4460989064985918\n",
      "\t left 0.017597269089048864\n",
      "\n",
      "Prediction\n",
      "\t UP\n"
     ]
    }
   ],
   "source": [
    "print(\"Speak in 3...\")\n",
    "time.sleep(1)\n",
    "print(\"Speak in 2...\")\n",
    "time.sleep(1)\n",
    "print(\"Speak in 1...\")\n",
    "time.sleep(1)\n",
    "record_1_sec()\n",
    "\n",
    "inp = spectogram(\"myrecording.wav\")[:,-32:]\n",
    "\n",
    "show_spectogram(inp)\n",
    "\n",
    "inp = inp.T.flatten()[np.newaxis,:]\n",
    "\n",
    "nn = wbnn.NN.load(\"models/SimpleASR_conv/\")\n",
    "predicted = nn.prop([[inp]])[0][0]\n",
    "\n",
    "words = [\"up\", \"down\", \"right\", \"left\"]\n",
    "\n",
    "print(\"Confidence levels:\")\n",
    "[ print(\"\\t\",*x) for x in list(zip(words,predicted[0,:].tolist()))]\n",
    "print()\n",
    "print(\"Prediction\")\n",
    "print(\"\\t\",words[np.argmax(predicted)].upper())"
   ]
  },
  {
   "cell_type": "markdown",
   "metadata": {},
   "source": [
    "\n",
    "\n",
    "\n",
    "\n",
    "\n",
    "\n",
    "\n",
    "\n",
    "\n",
    "\n",
    "\n",
    "\n",
    "\n",
    "\n",
    "\n",
    "\n",
    "\n",
    "\n",
    "\n",
    "\n",
    "\n",
    "\n",
    "\n"
   ]
  },
  {
   "cell_type": "code",
   "execution_count": null,
   "metadata": {},
   "outputs": [],
   "source": []
  }
 ],
 "metadata": {
  "kernelspec": {
   "display_name": "Python 3",
   "language": "python",
   "name": "python3"
  },
  "language_info": {
   "codemirror_mode": {
    "name": "ipython",
    "version": 3
   },
   "file_extension": ".py",
   "mimetype": "text/x-python",
   "name": "python",
   "nbconvert_exporter": "python",
   "pygments_lexer": "ipython3",
   "version": "3.6.5"
  }
 },
 "nbformat": 4,
 "nbformat_minor": 2
}
